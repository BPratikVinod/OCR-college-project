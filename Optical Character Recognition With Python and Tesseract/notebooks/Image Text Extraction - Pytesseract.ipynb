{
 "cells": [
  {
   "cell_type": "markdown",
   "id": "aae091e5",
   "metadata": {},
   "source": [
    "<center>\n",
    "    <u><h2>Hindi OCR</h2></u>\n",
    "</center>"
   ]
  },
  {
   "cell_type": "markdown",
   "id": "cb5d3dad",
   "metadata": {},
   "source": [
    "<u>\n",
    "<h4>Import modules</h4>\n",
    "</u>"
   ]
  },
  {
   "cell_type": "code",
   "execution_count": 1,
   "id": "7867b5dc",
   "metadata": {},
   "outputs": [],
   "source": [
    "import os # To import test image files\n",
    "import cv2 # To work with opencv images\n",
    "from PIL import Image # Image submodule to work with pillow images\n",
    "import pytesseract as pt # pytesseract module"
   ]
  },
  {
   "cell_type": "code",
   "execution_count": 3,
   "id": "e54d216f",
   "metadata": {},
   "outputs": [
    {
     "name": "stdout",
     "output_type": "stream",
     "text": [
      "bound-text-1.jpg\n",
      "bound-text-2.jpg\n",
      "hello-text.jpg\n",
      "hindi-news-1.jpg\n",
      "hindi-news-2.jpg\n",
      "hindi-text-1.jpg\n",
      "hindi-text-2.jpg\n",
      "image-paths.txt\n",
      "news-1.png\n",
      "news-2.jpg\n"
     ]
    }
   ],
   "source": [
    "test_img_path = \"../test images/\"\n",
    "create_path = lambda f : os.path.join(test_img_path, f)\n",
    "\n",
    "test_image_files = os.listdir(test_img_path)\n",
    "\n",
    "for f in test_image_files:\n",
    "    print(f)"
   ]
  },
  {
   "cell_type": "code",
   "execution_count": 4,
   "id": "27e88dec",
   "metadata": {},
   "outputs": [],
   "source": [
    "def show_image(img_path, size=(500, 500)):\n",
    "    image = cv2.imread(img_path)\n",
    "    image = cv2.resize(image, size)\n",
    "    \n",
    "    cv2.imshow(\"IMAGE\", image)\n",
    "    cv2.waitKey(0)\n",
    "    cv2.destroyAllWindows()"
   ]
  },
  {
   "cell_type": "markdown",
   "id": "64201ca9",
   "metadata": {},
   "source": [
    "<u>\n",
    "<h4>Configure tesseract path in implementations (No need to add in to the PATH explicitly)</h4>\n",
    "</u>"
   ]
  },
  {
   "cell_type": "code",
   "execution_count": 5,
   "id": "1fa4ba38",
   "metadata": {},
   "outputs": [],
   "source": [
    "# optional: only if you haven't configured PATH\n",
    "pt.pytesseract.tesseract_cmd = r\"C:\\Program Files\\Tesseract-OCR\\tesseract.exe\" # provide full path to tesseract.exe"
   ]
  },
  {
   "cell_type": "markdown",
   "id": "2d124a42",
   "metadata": {},
   "source": [
    "<u>\n",
    "<h4>Checkout available languages</h4>\n",
    "</u>\n",
    "<p>Check out <a href='https://tesseract-ocr.github.io/tessdoc/Data-Files-in-different-versions.html'>here</a> to learn about languages and their codes available in tesseract.</p>\n"
   ]
  },
  {
   "cell_type": "code",
   "execution_count": 6,
   "id": "61caf321",
   "metadata": {},
   "outputs": [
    {
     "name": "stdout",
     "output_type": "stream",
     "text": [
      "eng\n",
      "hin\n"
     ]
    }
   ],
   "source": [
    "# using cmd: tesseract --list-langs\n",
    "avb_langs = pt.get_languages(config='')\n",
    "\n",
    "for lang in avb_langs:\n",
    "    print(lang)"
   ]
  },
  {
   "cell_type": "markdown",
   "id": "68b8f663",
   "metadata": {},
   "source": [
    "<u>\n",
    "<h4>Extract text from an image : Simple</h4>\n",
    "</u>"
   ]
  },
  {
   "cell_type": "code",
   "execution_count": 7,
   "id": "b0e6c8f7",
   "metadata": {},
   "outputs": [
    {
     "name": "stdout",
     "output_type": "stream",
     "text": [
      "START with\n",
      "Hello\n",
      "SS\n",
      "\n"
     ]
    },
    {
     "ename": "KeyboardInterrupt",
     "evalue": "",
     "output_type": "error",
     "traceback": [
      "\u001b[1;31m---------------------------------------------------------------------------\u001b[0m",
      "\u001b[1;31mKeyboardInterrupt\u001b[0m                         Traceback (most recent call last)",
      "Cell \u001b[1;32mIn [7], line 8\u001b[0m\n\u001b[0;32m      5\u001b[0m text \u001b[39m=\u001b[39m pt\u001b[39m.\u001b[39mimage_to_string(image)\n\u001b[0;32m      7\u001b[0m \u001b[39mprint\u001b[39m(text)\n\u001b[1;32m----> 8\u001b[0m show_image(path)\n",
      "Cell \u001b[1;32mIn [4], line 6\u001b[0m, in \u001b[0;36mshow_image\u001b[1;34m(img_path, size)\u001b[0m\n\u001b[0;32m      3\u001b[0m image \u001b[39m=\u001b[39m cv2\u001b[39m.\u001b[39mresize(image, size)\n\u001b[0;32m      5\u001b[0m cv2\u001b[39m.\u001b[39mimshow(\u001b[39m\"\u001b[39m\u001b[39mIMAGE\u001b[39m\u001b[39m\"\u001b[39m, image)\n\u001b[1;32m----> 6\u001b[0m cv2\u001b[39m.\u001b[39;49mwaitKey(\u001b[39m0\u001b[39;49m)\n\u001b[0;32m      7\u001b[0m cv2\u001b[39m.\u001b[39mdestroyAllWindows()\n",
      "\u001b[1;31mKeyboardInterrupt\u001b[0m: "
     ]
    }
   ],
   "source": [
    "image_path = test_image_files[2] # 2, 3, 12, 1, 13, 15\n",
    "path = create_path(image_path)\n",
    "\n",
    "image = Image.open(path)\n",
    "text = pt.image_to_string(image)\n",
    "\n",
    "print(json.dumps(text))\n",
    "show_image(path)"
   ]
  },
  {
   "cell_type": "markdown",
   "id": "b4ad784b",
   "metadata": {},
   "source": [
    "<u>\n",
    "    <h4>Extract text from an image : Specifying a language</h4>\n",
    "</u>\n",
    "<p>Check out <a href='https://github.com/tesseract-ocr/tessdata/tree/3.04.00'>here</a> to download different language data files.</p>"
   ]
  },
  {
   "cell_type": "code",
   "execution_count": 7,
   "id": "d067c55b",
   "metadata": {},
   "outputs": [
    {
     "name": "stdout",
     "output_type": "stream",
     "text": [
      "सुखद : आसन वेटलैंड में पलास\n",
      "फिंश ईगल की नेसिंटग शुरू\n",
      "\n",
      "जागरण संवाददाता, विकासनगर :देश के पहले\n",
      "कंजरवेशन रिजर्व आसन वेटलैंड में प्रवास पर आए\n",
      "पलास फिश ईगल (वैज्ञानिक नाम हालियाइटस\n",
      "ल्यूकॉरीपस ) के जोड़े ने सेमल के पेड़ पर\n",
      "आशियाना तैयार करना शुरू कर दिया है । चकराता\n",
      "वन प्रभाग इसे एक सुखद संकेत मान रहा है। वहीं\n",
      "आसन नमथभूमि में प्रवासी परिंदों की संख्या बढ़कर\n",
      "पांच हजार के करीब हो गई है ।शिकारियों पर अंकुश\n",
      "को सशस्त्र वन टीम की रात दिन गश्त चल रही है।\n",
      "रविवार को जीएमवीएन के आसन पर्यटन स्थल पर\n",
      "आए पक्षी प्रेमियों व पर्यटकों ने बोटिंग के साथ ही बर्ड\n",
      "वाचिंग का भी आनंद लिया।\n",
      "\n",
      "दुर्लभ प्रजाति के पलाश फिश ईगल मुख्य रूप से\n",
      "कजाकिस्तान, मंगोलिया, बंग्लादेश आदि देशों से\n",
      "प्रवास पर आते हैं पिछले 50 साल से पलास फिश\n",
      "ईगल का जोड़ा प्रवास पर आ स्हा है। इस बार जोड़े ने\n",
      "नमभुूमि क्षेत्र के आरक्षित वन क्षेत्र में सेमल के पेड़\n",
      "पर आशियाना तैयार करना शुरू कर दिया है । आसन\n",
      "रेंजर जवाहर सिंह तोमर व वन बीट अधिकारी प्रदीप\n",
      "सक्सेना ने लंबे समय बाद आशियाना तैयार कर रहे\n",
      "पलाश फिश ईगल की गतिविधियों पर ध्यान देना\n",
      "शुरू कर दिया है। प्रभाग अधिकारी इसे सुखद मान\n",
      "रहे हैं। वहीं 20 प्रजातियों के प्रवासी परिंदों की संख्या\n",
      "बढ़कर पांच हजार के करीब पहुंच गई है।\n",
      "अधिकारियों ने बताया कि जल्द ही पक्षी विशेषज्ञ\n",
      "गणना के लिए नमभूमि आएंगे। जिसके बाद पक्षियों\n",
      "से संबंधित आंकड़े जारी किए जाएंगे ।\n",
      "\n",
      "बीते कुछ समय से लगातार सूखी ठंड पड़ने से भी\n",
      "प्रवासी पक्षियों की आमद में कमी आ गई थी, जो\n",
      "पिछले वर्ष की अपेक्षा काफी कम थी। इसे लेकर\n",
      "पक्षी विशेषज्ञ चिंता जता रहे थे। लेकिन, धीरे-धीरे\n",
      "बढ़ रही पक्षियों की संख्या से विशेषज्ञों व वन कर्मियों\n",
      "ने राहत की सांस ली है ।चकराता वन प्रभाग के रेंजर\n",
      "आसन जवाहर सिंह तोमर व वन बीट अधिकारी\n",
      "प्रदीप सक्सेना के अनुसार डीएफ-ओ दीपचंद आर्य\n",
      "\n",
      "शक\n",
      "\n",
      "आसनवेटलैंड में सेमल के पेड पर बैठा पलाश फिश\n",
      "'ईगल ० जागरण\n",
      "\n",
      "बोटिंग के साथ बर्ड वाचिंग\n",
      "\n",
      "डिनर जैसे. 5\n",
      "\n",
      "जीएमवीएन के आसन पर्यटन स्थल पर नववर्ष\n",
      "के पहले दिन भारी संख्या में पर्यटक व पक्षी प्रेमी\n",
      "उमड़े । जिन्होंने पैडल बोट का आनंद लेने के साथ\n",
      "ही बर्ड वाचिंग भी की । आसन पर्यटन स्थल के\n",
      "प्रबंचक अजयपाल कंडारी के अनुसार बोट की\n",
      "रक्त संख्या बढ़ाने के प्रयास किए\n",
      "जारहे हैं ।\n",
      "\n",
      "के निर्देश के चलते प्रवासी परिंदों की सुरक्षा को गश्त\n",
      "पर विशेष ध्यान दिया जा रहा है । प्रवासी परिंदों की\n",
      "संख्या में इजाफा हो रहा है, जो आने वाले समय के\n",
      "लिए सुस्वद संकेत है ।\n",
      "\n"
     ]
    }
   ],
   "source": [
    "path = create_path(\"hindi-news-2.jpg\")\n",
    "\n",
    "image = Image.open(path)\n",
    "text = pt.image_to_string(image, lang='hin')\n",
    "\n",
    "print(text)\n",
    "show_image(path)"
   ]
  }
 ],
 "metadata": {
  "kernelspec": {
   "display_name": "Python 3.10.8 64-bit (microsoft store)",
   "language": "python",
   "name": "python3"
  },
  "language_info": {
   "codemirror_mode": {
    "name": "ipython",
    "version": 3
   },
   "file_extension": ".py",
   "mimetype": "text/x-python",
   "name": "python",
   "nbconvert_exporter": "python",
   "pygments_lexer": "ipython3",
   "version": "3.10.9"
  },
  "vscode": {
   "interpreter": {
    "hash": "8ebf7fc8527880daa6e4363d8814dee48eb0f49c868bbf822a44ec45023d0532"
   }
  }
 },
 "nbformat": 4,
 "nbformat_minor": 5
}
